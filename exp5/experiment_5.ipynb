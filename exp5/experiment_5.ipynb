{
    "cells": [
        {
            "cell_type": "markdown",
            "metadata": {},
            "source": [
                "# Python程序设计——上机5\n",
                "\n",
                "**姓名：李书宇&nbsp;&nbsp;&nbsp;&nbsp;&nbsp;学号：U202440940**\n",
                "\n",
                "实验主题：文件操作\n",
                "\n",
                "实验目的：\n",
                "\n",
                "* 文件夹的操作\n",
                "* 文件的读写操作\n",
                "\n",
                "\n",
                "<font color=\"red\">请发送至：teacher_jin_2\\@163.com，邮件标题和附件标题均为：Python程序设计\\_学号\\_姓名\\_上机5</font>"
            ]
        },
        {
            "cell_type": "markdown",
            "metadata": {},
            "source": [
                "### **提交说明**\n",
                "\n",
                "- 提交次数: 3\n",
                "\n",
                "- 更改: \n",
                "\n",
                "    练习3:\n",
                "\n",
                "    1. 修复此前判断素数代码的错误 (之前把n%i==0写成了n%1==0)\n",
                "    2. 优化判断素数的速度, 把除数范围缩小到2到int(n**0.5)\n",
                "    3. 改用列表存储每个数字的次数, 列表中的索引+1对应数字, 元素对应出现次数. 这样运行速度更快."
            ]
        },
        {
            "cell_type": "markdown",
            "metadata": {},
            "source": [
                "### 练习1：文件搜索\n",
                "> 编写函数，实现如下功能：对于给定目录、文件名片段和文件后缀，查找该目录下（包括子目录）中后缀(如\".doc\",\".docx\")为指定后缀，且文件名包括给定文件名片段的所有文件，以列表的形式返回查找结果。\n",
                "注意：文件名片段默认值为“*”，当使用默认值时，查找满足后缀要求的所有文件。"
            ]
        },
        {
            "cell_type": "code",
            "execution_count": 1,
            "metadata": {},
            "outputs": [
                {
                    "name": "stdout",
                    "output_type": "stream",
                    "text": [
                        "['D:\\\\Users\\\\Wuhlulu\\\\Documents\\\\Learning\\\\SLAM14\\\\slambook2-master\\\\ch9\\\\problem-16-22106-pre.txt', 'D:\\\\Users\\\\Wuhlulu\\\\Documents\\\\MATLAB\\\\1.txt', 'D:\\\\Users\\\\Wuhlulu\\\\Documents\\\\py\\\\cs61a\\\\assets\\\\slides\\\\10.py', 'D:\\\\Users\\\\Wuhlulu\\\\Documents\\\\py\\\\cs61a\\\\assets\\\\slides\\\\11.py', 'D:\\\\Users\\\\Wuhlulu\\\\Documents\\\\py\\\\cs61a\\\\assets\\\\slides\\\\12.py', 'D:\\\\Users\\\\Wuhlulu\\\\Documents\\\\py\\\\cs61a\\\\assets\\\\slides\\\\13.py', 'D:\\\\Users\\\\Wuhlulu\\\\Documents\\\\py\\\\cs61a\\\\assets\\\\slides\\\\14.py', 'D:\\\\Users\\\\Wuhlulu\\\\Documents\\\\py\\\\cs61a\\\\assets\\\\slides\\\\15.py', 'D:\\\\Users\\\\Wuhlulu\\\\Documents\\\\py\\\\cs61a\\\\assets\\\\slides\\\\16.py', 'D:\\\\Users\\\\Wuhlulu\\\\Documents\\\\py\\\\cs61a\\\\assets\\\\slides\\\\17.py', 'D:\\\\Users\\\\Wuhlulu\\\\Documents\\\\py\\\\cs61a\\\\assets\\\\slides\\\\18.py', 'D:\\\\Users\\\\Wuhlulu\\\\Documents\\\\py\\\\cs61a\\\\assets\\\\slides\\\\19.py', 'D:\\\\Users\\\\Wuhlulu\\\\Documents\\\\py\\\\cs61a\\\\assets\\\\slides\\\\21.py', 'D:\\\\Users\\\\Wuhlulu\\\\Documents\\\\py\\\\cs61a\\\\disc\\\\disc01\\\\dsic01.py', 'D:\\\\Users\\\\Wuhlulu\\\\Documents\\\\py\\\\cs61a\\\\hw\\\\hw01\\\\hw01.py', 'D:\\\\Users\\\\Wuhlulu\\\\Documents\\\\py\\\\cs61a\\\\hw\\\\sol-hw01\\\\hw01.py', 'D:\\\\Users\\\\Wuhlulu\\\\Documents\\\\py\\\\cs61a\\\\lab\\\\lab01\\\\lab01.py', 'D:\\\\Users\\\\Wuhlulu\\\\Documents\\\\py\\\\cs61a\\\\proj\\\\hog\\\\tests\\\\01.py', 'D:\\\\Users\\\\Wuhlulu\\\\Documents\\\\py\\\\cs61a\\\\proj\\\\hog\\\\tests\\\\10.py', 'D:\\\\Users\\\\Wuhlulu\\\\Documents\\\\py\\\\cs61a\\\\proj\\\\hog\\\\tests\\\\11.py', 'D:\\\\Users\\\\Wuhlulu\\\\Documents\\\\py\\\\cs61a\\\\proj\\\\hog\\\\tests\\\\12.py', 'D:\\\\Users\\\\Wuhlulu\\\\Documents\\\\py\\\\cs61a\\\\try\\\\ch.1.6.py', 'D:\\\\Users\\\\Wuhlulu\\\\Documents\\\\py\\\\python_crash_course\\\\ch.4\\\\4.4\\\\practice_4-10.py', 'D:\\\\Users\\\\Wuhlulu\\\\Documents\\\\py\\\\python_crash_course\\\\ch.4\\\\4.4\\\\practice_4-11.py', 'D:\\\\Users\\\\Wuhlulu\\\\Documents\\\\py\\\\python_crash_course\\\\ch.4\\\\4.5\\\\4-13.py', 'D:\\\\Users\\\\Wuhlulu\\\\Documents\\\\py\\\\python_crash_course\\\\ch.5\\\\5.2\\\\practice_5-1.py', 'D:\\\\Users\\\\Wuhlulu\\\\Documents\\\\py\\\\python_crash_course\\\\ch.5\\\\5.3\\\\practice_5-10.py', 'D:\\\\Users\\\\Wuhlulu\\\\Documents\\\\py\\\\python_crash_course\\\\ch.5\\\\5.3\\\\practice_5-11.py', 'D:\\\\Users\\\\Wuhlulu\\\\Documents\\\\py\\\\python_crash_course\\\\ch.6\\\\6.2\\\\practice_6-1.py', 'D:\\\\Users\\\\Wuhlulu\\\\Documents\\\\py\\\\大计基\\\\homework6\\\\q1.py', 'D:\\\\Users\\\\Wuhlulu\\\\Documents\\\\py\\\\大计基\\\\homework7\\\\q1.py', 'D:\\\\Users\\\\Wuhlulu\\\\Documents\\\\py\\\\大计基\\\\homework8\\\\q1.py', 'D:\\\\Users\\\\Wuhlulu\\\\Documents\\\\WeChat Files\\\\wxid_yr6u7t0m457212\\\\Applet\\\\wx25f982a55e60a540\\\\usr\\\\.thumbcache_4ca31c36b230cf63fc054d3f9cbdb85f.txt', 'D:\\\\Users\\\\Wuhlulu\\\\Documents\\\\WeChat Files\\\\wxid_yr6u7t0m457212\\\\FileStorage\\\\File\\\\2024-11\\\\李书宇修改(1).txt', 'D:\\\\Users\\\\Wuhlulu\\\\Documents\\\\WeChat Files\\\\wxid_yr6u7t0m457212\\\\FileStorage\\\\File\\\\2024-11\\\\真的改了v2(1).txt', 'D:\\\\Users\\\\Wuhlulu\\\\Documents\\\\WeChat Files\\\\wxid_yr6u7t0m457212\\\\FileStorage\\\\File\\\\2024-12\\\\思想(1).txt', 'D:\\\\Users\\\\Wuhlulu\\\\Documents\\\\社会实践\\\\灰雀\\\\library\\\\灰雀.Data\\\\PDF\\\\2224331390\\\\2025-07-18晚上23-54-03@WanFangdata.txt', 'D:\\\\Users\\\\Wuhlulu\\\\Documents\\\\社会实践\\\\灰雀\\\\访谈\\\\访谈录\\\\异地就医家属访谈\\\\北儿家属1B.txt', 'D:\\\\Users\\\\Wuhlulu\\\\Documents\\\\社会实践\\\\灰雀\\\\访谈\\\\访谈录\\\\异地就医家属访谈\\\\顺义集中1.txt', 'D:\\\\Users\\\\Wuhlulu\\\\Documents\\\\过时资料\\\\军理\\\\201-240.txt']\n"
                    ]
                }
            ],
            "source": [
                "# 代码\n",
                "import os\n",
                "\n",
                "def find_files(path, *last, frag=\"\"): # path: 路径; last: 后缀, 可变参数; frag: 文件名片段, 只能用关键字传递\n",
                "\n",
                "    # 搜索目录和子目录中所有文件\n",
                "    # 之所以写个嵌套函数, 是因为last为可变参数, 如果直接调用自身, 那么会给last再加一层括号形成嵌套元组, \n",
                "    # 比如last=('py','txt)会变成last=(('py','txt')), 导致程序出错. 于是定义一个没有可变参数的函数\n",
                "    def find_all_files(path=path, lasts=last, frag=frag): \n",
                "        ls = [] # 用来存符合要求的文件路径\n",
                "\n",
                "        # 遍历指定目录下的文件/文件夹\n",
                "        for file in os.listdir(path):\n",
                "            full_path = os.path.join(path,file) # 文件完整路径\n",
                "            # 如果为文件, 且符合要求, 则将路径加入ls\n",
                "            if os.path.isfile(full_path):\n",
                "                for i in last:\n",
                "                    if frag in file and file.endswith(i):\n",
                "                        ls.append(full_path)\n",
                "            \n",
                "            # 如果为文件夹, 则在该子目录下搜索, 搜索结果与当前ls合并\n",
                "            else:\n",
                "                ls += find_all_files(full_path, lasts, frag=frag)\n",
                "\n",
                "        return ls\n",
                "    \n",
                "    return find_all_files()\n",
                "\n",
                "files = find_files(\"D:\\\\Users\\\\Wuhlulu\\\\Documents\", \".py\", \".txt\", frag='1')\n",
                "print(files)"
            ]
        },
        {
            "cell_type": "markdown",
            "metadata": {},
            "source": [
                "### 练习2：文件写操作——实现双色球随机选号\n",
                ">双色球属乐透型彩票范畴，由中国福利彩票发行管理中心统一组织发行，在全国范围内销售。红球号码范围为1～33，蓝球号码范围为1～16。双色球每期从33个红球中开出6个号码，从16个蓝球中开出1个号码作为中奖号码，双色球玩法即是竞猜开奖号码的6个红球号码和1个蓝球号码。<br>\n",
                "要求编写函数实现上述功能，函数输入参数为用户随机下注的彩票数，并将生成号码写入文件中。每一注彩票的包括排序后的6个红球号码和1个蓝球号码，文件中一行表示一注。"
            ]
        },
        {
            "cell_type": "code",
            "execution_count": null,
            "metadata": {},
            "outputs": [],
            "source": [
                "# 代码\n",
                "import random as rd\n",
                "\n",
                "def two_balls(n):\n",
                "    reds = range(1,34)\n",
                "    blues = range(1,17)\n",
                "    ls = [] # 每个元素为一注, 类型为列表\n",
                "    \n",
                "    # 生成n注\n",
                "    for _ in range(n):\n",
                "        # 生成红球并排序\n",
                "        rbs = []\n",
                "        for i in range(6):\n",
                "            rbs.append(rd.choice(reds))\n",
                "        rbs.sort()\n",
                "        # 把rbs的元素由int转换为str\n",
                "        for i in range(6):\n",
                "            rbs[i] =str(rbs[i])\n",
                "        bbs = str(rd.choice(blues)) # 抽蓝球\n",
                "        rbs.append(bbs)\n",
                "        ls.append(rbs)\n",
                "\n",
                "    return ls\n",
                "\n",
                "with open('双色球.txt', 'w')  as f:\n",
                "    for i in two_balls(10):\n",
                "        f.write(\", \".join(i)+\"\\n\")\n"
            ]
        },
        {
            "cell_type": "markdown",
            "metadata": {},
            "source": [
                "### 练习3：文件读写操作\n",
                "> 基于给定代码生成数字文件number.txt\n",
                "\n",
                "> 读出numbres.txt中所有的数据，（1）查找出出现次数最多的100个数，按照次数倒序输出数字及其出现次数；（2）查找出最大的100个数；（3）统计素数的数量\n",
                "> 注意：如果有并列情况，则列出所有并列值\n",
                "\n",
                "```python\n",
                "import random\n",
                "with open(\"D:\\\\number.txt\",\"w\",encoding=\"utf-8\") as file:\n",
                "    for _ in range(10000000):\n",
                "        for _ in range(0,random.randint(1,100)):\n",
                "            file.write(str(random.randint(1,10000000))+\",\")\n",
                "        file.write(\"\\n\")\n",
                "```"
            ]
        },
        {
            "cell_type": "code",
            "execution_count": null,
            "metadata": {},
            "outputs": [
                {
                    "name": "stdout",
                    "output_type": "stream",
                    "text": [
                        "已处理10000000行\n",
                        "\n",
                        "出现次数最多的100个数字:\n",
                        "4241038: 94次, 561443: 90次, 4194244: 89次, 1955995: 88次, 301850: 87次, 705590: 87次, 1694451: 87次, 1842472: 87次, 2031979: 87次, 3146693: 87次, 4925455: 87次, 5540598: 87次, 5567999: 87次, 7105866: 87次, 7277402: 87次, 9531206: 87次, 9735121: 87次, 9870747: 87次, 982645: 86次, 1237995: 86次, 1253815: 86次, 1822406: 86次, 2495966: 86次, 3060533: 86次, 3278723: 86次, 3470451: 86次, 3767016: 86次, 3784670: 86次, 4426145: 86次, 4703231: 86次, 5018541: 86次, 5185949: 86次, 5542385: 86次, 5565343: 86次, 7443926: 86次, 7806442: 86次, 7922203: 86次, 7949340: 86次, 8475923: 86次, 8819451: 86次, 9897717: 86次, 35431: 85次, 583051: 85次, 643230: 85次, 1407523: 85次, 1454750: 85次, 1480698: 85次, 1500875: 85次, 1791945: 85次, 1989120: 85次, 2064889: 85次, 3637254: 85次, 4133530: 85次, 4160392: 85次, 5171804: 85次, 5255222: 85次, 5437288: 85次, 6016050: 85次, 6806367: 85次, 6974898: 85次, 7151274: 85次, 7494477: 85次, 7750951: 85次, 7979254: 85次, 8171110: 85次, 8408395: 85次, 9154798: 85次, 9466249: 85次, 9814528: 85次, 127518: 84次, 317374: 84次, 384068: 84次, 670880: 84次, 1116820: 84次, 1356385: 84次, 1797896: 84次, 1930349: 84次, 2134954: 84次, 2285337: 84次, 2361032: 84次, 2577890: 84次, 2580205: 84次, 2947286: 84次, 2967056: 84次, 2973883: 84次, 3708272: 84次, 3888540: 84次, 3897938: 84次, 4317593: 84次, 4519858: 84次, 5211462: 84次, 5528417: 84次, 5557111: 84次, 5739634: 84次, 5896599: 84次, 5906946: 84次, 6075032: 84次, 6337925: 84次, 6520829: 84次, 6713152: 84次, 6839850: 84次, 6858767: 84次, 6907643: 84次, 6943663: 84次, 7466191: 84次, 7795221: 84次, 8071994: 84次, 8104874: 84次, 8182353: 84次, 8269021: 84次, 8483278: 84次, 8508344: 84次, 8702590: 84次, 9139251: 84次, 9624386: 84次, 9732787: 84次, 9870079: 84次, \n",
                        "\n",
                        "最大的100个数字:\n",
                        "10000000, 9999999, 9999998, 9999997, 9999996, 9999995, 9999994, 9999993, 9999992, 9999991, 9999990, 9999989, 9999988, 9999987, 9999986, 9999985, 9999984, 9999983, 9999982, 9999981, 9999980, 9999979, 9999978, 9999977, 9999976, 9999975, 9999974, 9999973, 9999972, 9999971, 9999970, 9999969, 9999968, 9999967, 9999966, 9999965, 9999964, 9999963, 9999962, 9999961, 9999960, 9999959, 9999958, 9999957, 9999956, 9999955, 9999954, 9999953, 9999952, 9999951, 9999950, 9999949, 9999948, 9999947, 9999946, 9999945, 9999944, 9999943, 9999942, 9999941, 9999940, 9999939, 9999938, 9999937, 9999936, 9999935, 9999934, 9999933, 9999932, 9999931, 9999930, 9999929, 9999928, 9999927, 9999926, 9999925, 9999924, 9999923, 9999922, 9999921, 9999920, 9999919, 9999918, 9999917, 9999916, 9999915, 9999914, 9999913, 9999912, 9999911, 9999910, 9999909, 9999908, 9999907, 9999906, 9999905, 9999904, 9999903, 9999902, 9999901, \n",
                        "\n",
                        "素数数量: 664579\n"
                    ]
                }
            ],
            "source": [
                "# 代码\n",
                "\n",
                "f = open(\"number.txt\",\"r\")\n",
                "line = f.readline()\n",
                "\n",
                "num_counts = [0 for _ in range(10000000)] # 索引位置+1对应数字, 元素对应次数\n",
                "\n",
                "\n",
                "# 生成10000000以内的质数集合\n",
                "primes = set()\n",
                "for n in range(2,10000001):\n",
                "    is_prime = True\n",
                "    for i in range(2, int(n**0.5)+1):\n",
                "        if n % i == 0:\n",
                "            is_prime = False\n",
                "            break\n",
                "    if is_prime:\n",
                "        primes.add(n)\n",
                "\n",
                "count = 0 # 循环次数\n",
                "while line:\n",
                "    numbers = line.replace(\",\\n\",\"\").split(\",\")\n",
                "    for n in numbers:\n",
                "        n = int(n)\n",
                "        num_counts[n-1] += 1\n",
                "\n",
                "    count += 1\n",
                "    if count % 100000 == 0:\n",
                "        print(f\"已处理{count}行\\r\",end=\"\")\n",
                "\n",
                "    line = f.readline()\n",
                "f.close()\n",
                "\n",
                "# 次数前100个数字\n",
                "num_dict = {}\n",
                "for i in range(10000000):\n",
                "    if num_counts[i]:\n",
                "        num_dict[i+1] = num_counts[i]\n",
                "sorted_counts = sorted(list(num_dict.items()), key=lambda x:x[1], reverse=True)\n",
                "most100 = sorted_counts[:100]\n",
                "# 处理并列\n",
                "i = 100\n",
                "while sorted_counts[i][1] == most100[-1][1]:\n",
                "    most100.append(sorted_counts[i])\n",
                "    i += 1\n",
                "print(\"\\n\\n出现次数最多的100个数字:\")\n",
                "for i in range(len(most100)):\n",
                "    print(\"{}: {}次\".format(most100[i][0], most100[i][1]), end=\", \")\n",
                "\n",
                "#获取所有出现的数字和素数\n",
                "prime = 0\n",
                "nums = []\n",
                "for i in range(10000000):\n",
                "    if num_counts[i] != 0:\n",
                "        nums.append(i+1)\n",
                "        if i+1 in primes:\n",
                "            prime += 1\n",
                "\n",
                "print(\"\\n\\n最大的100个数字:\")\n",
                "for n in nums[:-101:-1]:\n",
                "    print(n,end=\", \")\n",
                "\n",
                "print(f\"\\n\\n素数数量: {prime}\")"
            ]
        },
        {
            "cell_type": "markdown",
            "metadata": {},
            "source": [
                "### 练习4：word文档操作\n",
                "> 基于csv文件中的录用数据，采用给定的word版本的录用通知模板，为每一个录用的新员工制作录用通知\n",
                "\n",
                "> docxtpl：http://docxtpl.readthedocs.io/en/latest/"
            ]
        },
        {
            "cell_type": "code",
            "execution_count": null,
            "metadata": {},
            "outputs": [],
            "source": [
                "# 代码\n",
                "from docxtpl import DocxTemplate\n",
                "\n",
                "# 读csv\n",
                "f = open('录用名册.csv', 'r', encoding='utf-8')\n",
                "titles = f.readline().strip().replace('\\ufeff','').split(',') # 表头\n",
                "employees = f.readlines() # 信息列表\n",
                "\n",
                "employee_infos = [] # 员工信息, 由字典组成的列表\n",
                "for employee in employees:\n",
                "    infos = employee.replace(' ','').replace('\\n','').split(',')\n",
                "    employee_info = {} # 员工信息字典\n",
                "    for i in range(len(titles)):\n",
                "        employee_info[titles[i]] = infos[i]\n",
                "    employee_infos.append(employee_info)\n",
                "\n",
                "# 处理文档\n",
                "doc = DocxTemplate(\"录取通知书模板.docx\")\n",
                "for e in employee_infos:\n",
                "    doc.render(e)\n",
                "    doc.save(f'{e['name']}的录取通知书.docx')"
            ]
        },
        {
            "cell_type": "markdown",
            "metadata": {},
            "source": [
                "### Enjoy~"
            ]
        }
    ],
    "metadata": {
        "kernelspec": {
            "display_name": "Python 3",
            "language": "python",
            "name": "python3"
        },
        "language_info": {
            "codemirror_mode": {
                "name": "ipython",
                "version": 3
            },
            "file_extension": ".py",
            "mimetype": "text/x-python",
            "name": "python",
            "nbconvert_exporter": "python",
            "pygments_lexer": "ipython3",
            "version": "3.12.4"
        }
    },
    "nbformat": 4,
    "nbformat_minor": 4
}
