{
 "cells": [
  {
   "cell_type": "markdown",
   "metadata": {},
   "source": [
    "# Python程序设计——上机5\n",
    "\n",
    "**姓名：李书宇&nbsp;&nbsp;&nbsp;&nbsp;&nbsp;学号：U202440940**\n",
    "\n",
    "实验主题：文件操作\n",
    "\n",
    "实验目的：\n",
    "\n",
    "* 文件夹的操作\n",
    "* 文件的读写操作\n",
    "\n",
    "\n",
    "<font color=\"red\">请发送至：teacher_jin_2\\@163.com，邮件标题和附件标题均为：Python程序设计\\_学号\\_姓名\\_上机5</font>"
   ]
  },
  {
   "cell_type": "markdown",
   "metadata": {},
   "source": [
    "### 练习1：文件搜索\n",
    "> 编写函数，实现如下功能：对于给定目录、文件名片段和文件后缀，查找该目录下（包括子目录）中后缀(如\".doc\",\".docx\")为指定后缀，且文件名包括给定文件名片段的所有文件，以列表的形式返回查找结果。\n",
    "注意：文件名片段默认值为“*”，当使用默认值时，查找满足后缀要求的所有文件。"
   ]
  },
  {
   "cell_type": "code",
   "execution_count": null,
   "metadata": {},
   "outputs": [],
   "source": [
    "# 代码\n",
    "import os\n",
    "\n",
    "def find_all_file(path,last, frag=\"\"):\n",
    "\t\n",
    "\tfor file in os.listdir(path):\n",
    "\t\tfull_path = path+\"/\"+file\n",
    "\t\tif os.path.isfile(full_path):\n",
    "\t\t\tfor i in last:\n",
    "\t\t\t\tif frag in file and file.endswith(i):\n",
    "\t\t\t\t\tprint(full_path)\n",
    "\t\t\t\n",
    "\t\telse:\n",
    "\t\t\tfind_all_file(full_path, last, frag)\n",
    "\n",
    "find_all_file(\"D:\\\\Users\\\\Wuhlulu\\\\Documents\", [\".py\"],\"\")"
   ]
  },
  {
   "cell_type": "markdown",
   "metadata": {},
   "source": [
    "### 练习2：文件写操作——实现双色球随机选号\n",
    ">双色球属乐透型彩票范畴，由中国福利彩票发行管理中心统一组织发行，在全国范围内销售。红球号码范围为1～33，蓝球号码范围为1～16。双色球每期从33个红球中开出6个号码，从16个蓝球中开出1个号码作为中奖号码，双色球玩法即是竞猜开奖号码的6个红球号码和1个蓝球号码。<br>\n",
    "要求编写函数实现上述功能，函数输入参数为用户随机下注的彩票数，并将生成号码写入文件中。每一注彩票的包括排序后的6个红球号码和1个蓝球号码，文件中一行表示一注。"
   ]
  },
  {
   "cell_type": "code",
   "execution_count": null,
   "metadata": {},
   "outputs": [],
   "source": [
    "# 代码\n",
    "import random as rd\n",
    "reds = range(1,34)\n",
    "blues = range(1,17)\n",
    "\n",
    "def two_balls(n):\n",
    "\tf = open(\"双色球.txt\", \"w\")\n",
    "\tfor _ in range(n):\n",
    "\t\trbs = []\n",
    "\t\tfor i in range(6):\n",
    "\t\t\trbs.append(rd.choice(reds))\n",
    "\t\trbs.sort()\n",
    "\n",
    "\t\tfor i in range(6):\n",
    "\t\t\trbs[i] =str(rbs[i])\n",
    "\t\tbbs = str(rd.choice(blues))\n",
    "\t\tf.write(\",\".join(rbs)+\",\"+bbs+\"\\n\")\n",
    "\n",
    "\tf.close()\n",
    "\n",
    "two_balls(2)"
   ]
  },
  {
   "cell_type": "markdown",
   "metadata": {},
   "source": [
    "### 练习3：文件读写操作\n",
    "> 基于给定代码生成数字文件number.txt\n",
    "\n",
    "> 读出numbres.txt中所有的数据，（1）查找出出现次数最多的100个数，按照次数倒序输出数字及其出现次数；（2）查找出最大的100个数；（3）统计素数的数量\n",
    "> 注意：如果有并列情况，则列出所有并列值\n",
    "\n",
    "```python\n",
    "import random\n",
    "with open(\"D:\\\\number.txt\",\"w\",encoding=\"utf-8\") as file:\n",
    "    for _ in range(10000000):\n",
    "        for _ in range(0,random.randint(1,100)):\n",
    "            file.write(str(random.randint(1,10000000))+\",\")\n",
    "        file.write(\"\\n\")\n",
    "```"
   ]
  },
  {
   "cell_type": "code",
   "execution_count": null,
   "metadata": {},
   "outputs": [],
   "source": [
    "# 代码\n",
    "\n",
    "def count_num(numbers): # 统计数字次数\n",
    "\tnum_times = {}\n",
    "\tfor i in set(numbers):\n",
    "\t\tnum_times[i] = numbers.count(i)\n",
    "\treturn num_times\n",
    "\n",
    "def most100(numbers): #查找最大的100个数字\n",
    "\tunique_nums = list(set(numbers))\n",
    "\tunique_nums.sort(reverse=True)\n",
    "\tif len(unique_nums) >= 100:\n",
    "\t\treturn unique_nums[:100]\n",
    "\telse:\n",
    "\t\treturn unique_nums\n",
    "\n",
    "def count_prime(numbers): # 统计素数数量\n",
    "\tnot_primes = 0\n",
    "\tfor n in numbers:\n",
    "\t\tfor i in range(2, n//2 +1):\n",
    "\t\t\tif n % i == 0:\n",
    "\t\t\t\tnot_primes += 1\n",
    "\t\t\t\tbreak\n",
    "\treturn len(numbers)-not_primes\n",
    "\n",
    "def numlist(ls):\n",
    "\tfor i in range(len(ls)):\n",
    "\t\tls[i] = int(ls[i])\n",
    "\treturn ls\n",
    "\n",
    "f = open(\"number.txt\",\"r\")\n",
    "nums = {}\n",
    "prime = 0\n",
    "most = []\n",
    "for _ in range(10000000):\n",
    "\tnumbers = numlist(f.readline()[:-2].split(\",\"))\n",
    "\tnums_0 = count_num(numbers)\n",
    "\tfor n,v in nums_0.items():\n",
    "\t\tif n in nums:\n",
    "\t\t\tnums[n] += v\n",
    "\t\telse:\n",
    "\t\t\tnums[n] = v\n",
    "\tprime += count_prime(numbers)\n",
    "\tmost += most100(numbers)\n",
    "\tmost = most100(most)\n",
    "f.close()\n",
    "print(nums)\n",
    "print(prime)\n",
    "print(most)\n",
    "\n"
   ]
  },
  {
   "cell_type": "markdown",
   "metadata": {},
   "source": [
    "### 练习4：word文档操作\n",
    "> 基于csv文件中的录用数据，采用给定的word版本的录用通知模板，为每一个录用的新员工制作录用通知\n",
    "\n",
    "> docxtpl：http://docxtpl.readthedocs.io/en/latest/"
   ]
  },
  {
   "cell_type": "code",
   "execution_count": null,
   "metadata": {},
   "outputs": [],
   "source": [
    "# 代码\n",
    "from docxtpl import DocxTemplate\n",
    "\n",
    "\n"
   ]
  },
  {
   "cell_type": "markdown",
   "metadata": {},
   "source": [
    "### Enjoy~"
   ]
  }
 ],
 "metadata": {
  "kernelspec": {
   "display_name": "Python 3",
   "language": "python",
   "name": "python3"
  },
  "language_info": {
   "codemirror_mode": {
    "name": "ipython",
    "version": 3
   },
   "file_extension": ".py",
   "mimetype": "text/x-python",
   "name": "python",
   "nbconvert_exporter": "python",
   "pygments_lexer": "ipython3",
   "version": "3.12.4"
  }
 },
 "nbformat": 4,
 "nbformat_minor": 4
}
