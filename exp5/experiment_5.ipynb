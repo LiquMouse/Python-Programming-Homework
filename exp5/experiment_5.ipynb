{
    "cells": [
        {
            "cell_type": "markdown",
            "metadata": {},
            "source": [
                "# Python程序设计——上机5\n",
                "\n",
                "**姓名：李书宇&nbsp;&nbsp;&nbsp;&nbsp;&nbsp;学号：U202440940**\n",
                "\n",
                "实验主题：文件操作\n",
                "\n",
                "实验目的：\n",
                "\n",
                "* 文件夹的操作\n",
                "* 文件的读写操作\n",
                "\n",
                "\n",
                "<font color=\"red\">请发送至：teacher_jin_2\\@163.com，邮件标题和附件标题均为：Python程序设计\\_学号\\_姓名\\_上机5</font>"
            ]
        },
        {
            "cell_type": "markdown",
            "metadata": {},
            "source": [
                "### **提交说明**\n",
                "\n",
                "- 提交次数: 2\n",
                "- 更改: 把练习3判断素数的方式改为: 读取文件之前先生成10000000内所有素数的集合, 对于文件中的每一个数, 判断是否在该集合内即可; 简化代码长度.\n"
            ]
        },
        {
            "cell_type": "markdown",
            "metadata": {},
            "source": [
                "### 练习1：文件搜索\n",
                "> 编写函数，实现如下功能：对于给定目录、文件名片段和文件后缀，查找该目录下（包括子目录）中后缀(如\".doc\",\".docx\")为指定后缀，且文件名包括给定文件名片段的所有文件，以列表的形式返回查找结果。\n",
                "注意：文件名片段默认值为“*”，当使用默认值时，查找满足后缀要求的所有文件。"
            ]
        },
        {
            "cell_type": "code",
            "execution_count": null,
            "metadata": {},
            "outputs": [],
            "source": [
                "# 代码\n",
                "import os\n",
                "\n",
                "def find_files(path, *last, frag=\"\"): # path: 路径; last: 后缀, 可变参数; frag: 文件名片段, 只能用关键字传递\n",
                "\n",
                "    # 搜索目录和子目录中所有文件\n",
                "    # 之所以写个嵌套函数, 是因为last为可变参数, 如果直接调用自身, 那么会给last再加一层括号形成嵌套元组, \n",
                "    # 比如last=('py','txt)会变成last=(('py','txt')), 导致程序出错. 于是定义一个没有可变参数的函数\n",
                "    def find_all_files(path=path, lasts=last, frag=frag): \n",
                "        ls = [] # 用来存符合要求的文件路径\n",
                "\n",
                "        # 遍历指定目录下的文件/文件夹\n",
                "        for file in os.listdir(path):\n",
                "            full_path = os.path.join(path,file) # 文件完整路径\n",
                "            # 如果为文件, 且符合要求, 则将路径加入ls\n",
                "            if os.path.isfile(full_path):\n",
                "                for i in last:\n",
                "                    if frag in file and file.endswith(i):\n",
                "                        ls.append(full_path)\n",
                "            \n",
                "            # 如果为文件夹, 则在该子目录下搜索, 搜索结果与当前ls合并\n",
                "            else:\n",
                "                ls += find_all_files(full_path, lasts, frag=frag)\n",
                "\n",
                "        return ls\n",
                "    \n",
                "    return find_all_files()\n",
                "\n",
                "files = find_files(\"D:\\\\Users\\\\Wuhlulu\\\\Documents\", \".py\", \".txt\", frag='1')\n",
                "print(files)"
            ]
        },
        {
            "cell_type": "markdown",
            "metadata": {},
            "source": [
                "### 练习2：文件写操作——实现双色球随机选号\n",
                ">双色球属乐透型彩票范畴，由中国福利彩票发行管理中心统一组织发行，在全国范围内销售。红球号码范围为1～33，蓝球号码范围为1～16。双色球每期从33个红球中开出6个号码，从16个蓝球中开出1个号码作为中奖号码，双色球玩法即是竞猜开奖号码的6个红球号码和1个蓝球号码。<br>\n",
                "要求编写函数实现上述功能，函数输入参数为用户随机下注的彩票数，并将生成号码写入文件中。每一注彩票的包括排序后的6个红球号码和1个蓝球号码，文件中一行表示一注。"
            ]
        },
        {
            "cell_type": "code",
            "execution_count": null,
            "metadata": {},
            "outputs": [],
            "source": [
                "# 代码\n",
                "import random as rd\n",
                "\n",
                "def two_balls(n):\n",
                "    reds = range(1,34)\n",
                "    blues = range(1,17)\n",
                "    ls = [] # 每个元素为一注, 类型为列表\n",
                "    \n",
                "    # 生成n注\n",
                "    for _ in range(n):\n",
                "        # 生成红球并排序\n",
                "        rbs = []\n",
                "        for i in range(6):\n",
                "            rbs.append(rd.choice(reds))\n",
                "        rbs.sort()\n",
                "        # 把rbs的元素由int转换为str\n",
                "        for i in range(6):\n",
                "            rbs[i] =str(rbs[i])\n",
                "        bbs = str(rd.choice(blues)) # 抽蓝球\n",
                "        rbs.append(bbs)\n",
                "        ls.append(rbs)\n",
                "\n",
                "    return ls\n",
                "\n",
                "with open('双色球.txt', 'w')  as f:\n",
                "    for i in two_balls(10):\n",
                "        f.write(\", \".join(i)+\"\\n\")\n"
            ]
        },
        {
            "cell_type": "markdown",
            "metadata": {},
            "source": [
                "### 练习3：文件读写操作\n",
                "> 基于给定代码生成数字文件number.txt\n",
                "\n",
                "> 读出numbres.txt中所有的数据，（1）查找出出现次数最多的100个数，按照次数倒序输出数字及其出现次数；（2）查找出最大的100个数；（3）统计素数的数量\n",
                "> 注意：如果有并列情况，则列出所有并列值\n",
                "\n",
                "```python\n",
                "import random\n",
                "with open(\"D:\\\\number.txt\",\"w\",encoding=\"utf-8\") as file:\n",
                "    for _ in range(10000000):\n",
                "        for _ in range(0,random.randint(1,100)):\n",
                "            file.write(str(random.randint(1,10000000))+\",\")\n",
                "        file.write(\"\\n\")\n",
                "```"
            ]
        },
        {
            "cell_type": "code",
            "execution_count": null,
            "metadata": {},
            "outputs": [],
            "source": [
                "# 代码\n",
                "\n",
                "f = open(\"number.txt\",\"r\")\n",
                "line = f.readline()\n",
                "num_counts = {} # 数字及次数\n",
                "prime = 0 # 素数数量\n",
                "count = 0 # 循环次数\n",
                "\n",
                "# 生成10000000以内的质数集合\n",
                "primes = set()\n",
                "for n in range(1,10000001):\n",
                "    is_prime = True\n",
                "    for i in range(2, n//2+1):\n",
                "        if n % 1 == 0:\n",
                "            is_prime = False\n",
                "            break\n",
                "    if is_prime:\n",
                "        primes.add(n)\n",
                "\n",
                "while line:\n",
                "    numbers = line.split(\",\")[:-1]\n",
                "\n",
                "    for k in range(len(numbers)):\n",
                "        numbers[k] = int(numbers[k]) # 把字符串列表转化为整数列表\n",
                "        n = numbers[k]\n",
                "        num_counts[n] = num_counts.get(n,0) + 1 # 计数+=1\n",
                "\n",
                "        if n in primes:\n",
                "            prime += 1\n",
                "\n",
                "    count += 1\n",
                "    if count % 100000 == 0:\n",
                "        print(f\"已处理{count}行\\r\",end=\"\") # 打印进度来缓解焦虑\n",
                "\n",
                "    line = f.readline()\n",
                "\n",
                "f.close()\n",
                "\n",
                "sorted_counts = sorted(list(num_counts.items()), key=lambda x: x[1], reverse=True) # 按次数降序\n",
                "most100 = sorted_counts[:100]\n",
                "# 处理并列\n",
                "i = 100\n",
                "while sorted_counts[i][1] == most100[-1][1]:\n",
                "    most100.append(sorted_counts[i])\n",
                "    i += 1\n",
                "\n",
                "print(\"\\n\\n出现次数最多的100个数字:\")\n",
                "for i in range(len(most100)):\n",
                "    print(\"{}: {}次\".format(most100[i][0], most100[i][1]), end=\", \")\n",
                "\n",
                "unique_nums = list(num_counts.keys())\n",
                "sorted_nums = sorted(list(unique_nums), reverse=True)\n",
                "print(\"\\n\\n最大的100个数字:\")\n",
                "for n in sorted_nums[:100]:\n",
                "    print(n,end=\", \")\n",
                "\n",
                "print(f\"\\n\\n素数数量: {prime}\")"
            ]
        },
        {
            "cell_type": "markdown",
            "metadata": {},
            "source": [
                "### 练习4：word文档操作\n",
                "> 基于csv文件中的录用数据，采用给定的word版本的录用通知模板，为每一个录用的新员工制作录用通知\n",
                "\n",
                "> docxtpl：http://docxtpl.readthedocs.io/en/latest/"
            ]
        },
        {
            "cell_type": "code",
            "execution_count": null,
            "metadata": {},
            "outputs": [],
            "source": [
                "# 代码\n",
                "from docxtpl import DocxTemplate\n",
                "\n",
                "# 读csv\n",
                "f = open('录用名册.csv', 'r', encoding='utf-8')\n",
                "titles = f.readline().strip().replace('\\ufeff','').split(',') # 表头\n",
                "employees = f.readlines() # 信息列表\n",
                "\n",
                "employee_infos = [] # 员工信息, 由字典组成的列表\n",
                "for employee in employees:\n",
                "    infos = employee.replace(' ','').replace('\\n','').split(',')\n",
                "    employee_info = {} # 员工信息字典\n",
                "    for i in range(len(titles)):\n",
                "        employee_info[titles[i]] = infos[i]\n",
                "    employee_infos.append(employee_info)\n",
                "\n",
                "# 处理文档\n",
                "doc = DocxTemplate(\"录取通知书模板.docx\")\n",
                "for e in employee_infos:\n",
                "    doc.render(e)\n",
                "    doc.save(f'{e['name']}的录取通知书.docx')"
            ]
        },
        {
            "cell_type": "markdown",
            "metadata": {},
            "source": [
                "### Enjoy~"
            ]
        }
    ],
    "metadata": {
        "kernelspec": {
            "display_name": "Python 3",
            "language": "python",
            "name": "python3"
        },
        "language_info": {
            "codemirror_mode": {
                "name": "ipython",
                "version": 3
            },
            "file_extension": ".py",
            "mimetype": "text/x-python",
            "name": "python",
            "nbconvert_exporter": "python",
            "pygments_lexer": "ipython3",
            "version": "3.12.4"
        }
    },
    "nbformat": 4,
    "nbformat_minor": 4
}
