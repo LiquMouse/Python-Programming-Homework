{
 "cells": [
  {
   "cell_type": "markdown",
   "metadata": {},
   "source": [
    "# Python程序设计——上机2\n",
    "\n",
    "**姓名：李书宇&nbsp;&nbsp;&nbsp;&nbsp;&nbsp;学号：U202440940**\n",
    "\n",
    "实验主题：Python环境配置和变量及变量类型\n",
    "\n",
    "实验目的：\n",
    "\n",
    "\n",
    "* 掌握input和print函数的用法\n",
    "* 掌握字符串的常见函数\n",
    "* 变量的数据类型转换\n",
    "* 掌握if语句使用方法\n",
    "* 掌握for语句使用方法\n",
    "* 掌握while语句使用方法\n",
    "\n",
    "<font color=\"red\">请发送至：teacher_jin_2@163.com，邮件标题和附件标题均为：2025_Python程序设计_学号\\_姓名\\_上机2</font>"
   ]
  },
  {
   "cell_type": "markdown",
   "metadata": {},
   "source": [
    "### 一、变量和数据类型\n",
    "#### 1.华氏温度转换为摄氏温度。\n",
    "&nbsp;&nbsp;&nbsp;&nbsp;通过input函数接收任意输入的华氏温度，然后按照提示公式转为摄氏维度，并输出转化后的摄氏温度\n",
    "> 提示：华氏温度到摄氏温度的转换公式为：$C=(F - 32) \\div 1.8$。"
   ]
  },
  {
   "cell_type": "code",
   "execution_count": 1,
   "metadata": {},
   "outputs": [
    {
     "name": "stdin",
     "output_type": "stream",
     "text": [
      "输入华氏温度： 98\n"
     ]
    },
    {
     "name": "stdout",
     "output_type": "stream",
     "text": [
      "对应的摄氏度为：36.7\n"
     ]
    }
   ],
   "source": [
    "tpr_f = input(\"输入华氏温度：\")\n",
    "try:\n",
    "    tpr_f = float(tpr_f)\n",
    "    tpr_c = (tpr_f - 32) / 1.8\n",
    "    print(\"对应的摄氏度为：{:.1f}\".format(tpr_c))\n",
    "except:\n",
    "    print(\"请输入数字！\")"
   ]
  },
  {
   "cell_type": "markdown",
   "metadata": {},
   "source": [
    "#### 2. 输入圆的半径，计算圆的周长和面积。\n",
    "&nbsp;&nbsp;&nbsp;&nbsp;通过input函数接收任意输入大小的半径，然后计算并输出圆的周长和面积"
   ]
  },
  {
   "cell_type": "code",
   "execution_count": 2,
   "metadata": {},
   "outputs": [
    {
     "name": "stdin",
     "output_type": "stream",
     "text": [
      "输入圆的半径： 6\n"
     ]
    },
    {
     "name": "stdout",
     "output_type": "stream",
     "text": [
      "圆的周长为：37.70\n",
      "圆的面积为：113.10\n"
     ]
    }
   ],
   "source": [
    "PI = 3.1415926\n",
    "r = input(\"输入圆的半径：\")\n",
    "r = float(r)\n",
    "print(\"圆的周长为：{:.2f}\\n圆的面积为：{:.2f}\".format(r * 2 * PI, r ** 2 * PI))"
   ]
  },
  {
   "cell_type": "markdown",
   "metadata": {},
   "source": [
    "#### 3. 输入年份判断是不是闰年。\n",
    "&nbsp;&nbsp;&nbsp;&nbsp;通过input函数接收任意输入年份，然后判断该年份是不是闰年"
   ]
  },
  {
   "cell_type": "markdown",
   "metadata": {},
   "source": [
    "year = input(\"输入年份：\")\n",
    "try:\n",
    "    year = int(year)\n",
    "    if (year % 100 != 0 and year % 4 == 0) or (year % 400 == 0):\n",
    "        print(\"是闰年\")\n",
    "    else:\n",
    "        print(\"不是闰年\")\n",
    "except:\n",
    "    print(\"请输入年份！\")"
   ]
  },
  {
   "cell_type": "markdown",
   "metadata": {},
   "source": [
    "#### 4.字符串操作\n",
    "- 根据给定字符串，完成如下操作：\n",
    "- 将字符串中的英文字母都大小\n",
    "- 将字符中出现的“背景”都修改为“北京”\n",
    "- 判断字符串是否以“。”结尾，如果是输出True，不是则输出False\n",
    "- 统计字符串中“中国”出现的次数"
   ]
  },
  {
   "cell_type": "code",
   "execution_count": 3,
   "metadata": {},
   "outputs": [
    {
     "name": "stdout",
     "output_type": "stream",
     "text": [
      "WELCOME TO BEIJING, 北京欢迎您，北京是中国首都，中国是一个美丽的国家.\n",
      "False\n",
      "2\n"
     ]
    }
   ],
   "source": [
    "note = \"welcome to beijing, 背景欢迎您，北京是中国首都，中国是一个美丽的国家.\"\n",
    "\n",
    "note = note.upper()\n",
    "note = note.replace(\"背景\", \"北京\")\n",
    "print(\"{}\\n{}\\n{}\".format(note, note.endswith(\"。\"), note.count(\"中国\")))"
   ]
  },
  {
   "cell_type": "markdown",
   "metadata": {},
   "source": [
    "### 二、if-elif-else逻辑判断\n",
    "\n",
    "1. 输入三条边长，如果能构成三角形，则输出三角形的周长，否则输出“不能构成三角形”"
   ]
  },
  {
   "cell_type": "code",
   "execution_count": 4,
   "metadata": {},
   "outputs": [
    {
     "name": "stdin",
     "output_type": "stream",
     "text": [
      "输入三边边长，以空格分隔： 4 6 8\n"
     ]
    },
    {
     "name": "stdout",
     "output_type": "stream",
     "text": [
      "三角形周长为：18.0\n"
     ]
    }
   ],
   "source": [
    "a, b, c = input(\"输入三边边长，以空格分隔：\").split(\" \")\n",
    "sides = []\n",
    "for i in (a, b, c):\n",
    "    sides.append(float(i))\n",
    "\n",
    "can_tri = True\n",
    "for i in sides:\n",
    "    if sum(sides) - i <= i or i <= 0:\n",
    "        can_tri = False\n",
    "        break\n",
    "\n",
    "if can_tri:\n",
    "    print(\"三角形周长为：{}\".format(sum(sides)))\n",
    "else:\n",
    "    print(\"不能构成三角形\")"
   ]
  },
  {
   "cell_type": "markdown",
   "metadata": {},
   "source": [
    "2. 假设用户名为Admin，密码为123456，完成用户登录逻辑，根据用户输入的用户名和密码判断用户是否登录成功，如果登录不成功，提示用户名错误或密码错误"
   ]
  },
  {
   "cell_type": "code",
   "execution_count": 5,
   "metadata": {},
   "outputs": [
    {
     "name": "stdin",
     "output_type": "stream",
     "text": [
      "请输入用户名： Admin\n",
      "请输入密码： 23444\n"
     ]
    },
    {
     "name": "stdout",
     "output_type": "stream",
     "text": [
      "用户名或密码错误\n"
     ]
    }
   ],
   "source": [
    "username = input(\"请输入用户名：\")\n",
    "password = input(\"请输入密码：\")\n",
    "if (username, password) == (\"Admin\", \"123456\"):\n",
    "    print(\"登录成功\")\n",
    "else:\n",
    "    print(\"用户名或密码错误\")"
   ]
  },
  {
   "cell_type": "markdown",
   "metadata": {},
   "source": [
    "### 三、for-in循环\n",
    "1. 输出任意数n的nn乘法口诀表\n",
    "&nbsp;&nbsp;&nbsp;&nbsp;通过input函数接收任意输入的整数n，然后再屏幕中输出nn乘法口诀表，例如用户输入9，那么输出九九乘法口诀表如下：\n",
    "<img src=\"data:image/png;base64,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\">"
   ]
  },
  {
   "cell_type": "code",
   "execution_count": 6,
   "metadata": {},
   "outputs": [
    {
     "name": "stdin",
     "output_type": "stream",
     "text": [
      "输入正整数: 8\n"
     ]
    },
    {
     "name": "stdout",
     "output_type": "stream",
     "text": [
      "1*1 = 1 \t\n",
      "1*2 = 2 \t2*2 = 4 \t\n",
      "1*3 = 3 \t2*3 = 6 \t3*3 = 9 \t\n",
      "1*4 = 4 \t2*4 = 8 \t3*4 = 12\t4*4 = 16\t\n",
      "1*5 = 5 \t2*5 = 10\t3*5 = 15\t4*5 = 20\t5*5 = 25\t\n",
      "1*6 = 6 \t2*6 = 12\t3*6 = 18\t4*6 = 24\t5*6 = 30\t6*6 = 36\t\n",
      "1*7 = 7 \t2*7 = 14\t3*7 = 21\t4*7 = 28\t5*7 = 35\t6*7 = 42\t7*7 = 49\t\n",
      "1*8 = 8 \t2*8 = 16\t3*8 = 24\t4*8 = 32\t5*8 = 40\t6*8 = 48\t7*8 = 56\t8*8 = 64\t\n"
     ]
    }
   ],
   "source": [
    "n = input(\"输入正整数:\")\n",
    "n = int(n)\n",
    "\n",
    "for i in range(1, n+1):\n",
    "    for k in range(1, i+1):\n",
    "        print(f\"{k}*{i} = {k*i:<2}\", end=\"\\t\")\n",
    "    print()"
   ]
  },
  {
   "cell_type": "markdown",
   "metadata": {},
   "source": [
    "2. 输入两个正整数，计算最大公约数和最小公倍数。"
   ]
  },
  {
   "cell_type": "code",
   "execution_count": 7,
   "metadata": {},
   "outputs": [
    {
     "name": "stdin",
     "output_type": "stream",
     "text": [
      "输入两个正整数, 用空格分隔:  18 21\n"
     ]
    },
    {
     "name": "stdout",
     "output_type": "stream",
     "text": [
      "最大公约数为: 3\n",
      "最小公倍数为：126\n"
     ]
    }
   ],
   "source": [
    "a, b = input(\"输入两个正整数, 用空格分隔: \").split(\" \")\n",
    "a, b = int(a), int(b)\n",
    "m = max(a, b)\n",
    "n = min(a, b)\n",
    "\n",
    "for i in range(n, 0, -1):\n",
    "    if n%i==0 and m%i==0:\n",
    "        print(\"最大公约数为: {}\".format(i))\n",
    "        break\n",
    "\n",
    "for i in range(m, m*n+1):\n",
    "    if i % m == 0 and i %n == 0:\n",
    "        print(\"最小公倍数为：{}\".format(i))\n",
    "        break"
   ]
  },
  {
   "cell_type": "markdown",
   "metadata": {},
   "source": [
    "### 四、while循环\n",
    "\n",
    "#### 完成猜数字游戏，具体步骤和要求如下：\n",
    "\n",
    "1. 随机生成一个数字\n",
    "> import random  #引入随机数模块<br>\n",
    "> num = random.randint(1,100)   #随机生成1-100的整数，并赋值给变量num\n",
    "\n",
    "2. 用户输入一个数，并根据用户输入数据提示\n",
    "    - 如果用户输入的是数字\n",
    "        - 如果与随机数相等，则结束游戏\n",
    "        - 如果大于随机数，提示用户“大了，重新输入”\n",
    "        - 如果小于随机数，提示用户“小了，重新输入”\n",
    "    - 如果用户输入的不是数字\n",
    "        - 如果是exit，则退出游戏\n",
    "        - 否则，提示用户“请输入数字”"
   ]
  },
  {
   "cell_type": "code",
   "execution_count": 8,
   "metadata": {},
   "outputs": [
    {
     "name": "stdin",
     "output_type": "stream",
     "text": [
      "请输入在1~100之间的整数，任何时候输入exit退出： 50\n",
      "大了！重新输入： exit\n"
     ]
    },
    {
     "name": "stdout",
     "output_type": "stream",
     "text": [
      "正在退出……\n"
     ]
    }
   ],
   "source": [
    "import random\n",
    "\n",
    "num = random.randint(1, 100)\n",
    "ipt_n = input(\"请输入在1~100之间的整数，任何时候输入exit退出：\")\n",
    "while True:\n",
    "    if ipt_n.isnumeric():\n",
    "        ipt_n = int(ipt_n)\n",
    "        if ipt_n < num:\n",
    "            ipt_n = input(\"小了！重新输入：\")\n",
    "        elif ipt_n > num:\n",
    "            ipt_n = input(\"大了！重新输入：\")\n",
    "        elif ipt_n == num:\n",
    "            print(\"正确！\\n输入‘y’再来一轮，输入其它值退出游戏\")\n",
    "            if input() == 'y':\n",
    "                continue\n",
    "            else:\n",
    "                print(\"正在退出……\")\n",
    "                break\n",
    "    else:\n",
    "        if ipt_n == \"exit\":\n",
    "            print(\"正在退出……\")\n",
    "            break\n",
    "        else:\n",
    "            ipt_n = input(\"请输入数字: \")"
   ]
  },
  {
   "cell_type": "markdown",
   "metadata": {},
   "source": [
    "## enjoy~"
   ]
  }
 ],
 "metadata": {
  "kernelspec": {
   "display_name": "Python 3 (ipykernel)",
   "language": "python",
   "name": "python3"
  },
  "language_info": {
   "codemirror_mode": {
    "name": "ipython",
    "version": 3
   },
   "file_extension": ".py",
   "mimetype": "text/x-python",
   "name": "python",
   "nbconvert_exporter": "python",
   "pygments_lexer": "ipython3",
   "version": "3.13.5"
  }
 },
 "nbformat": 4,
 "nbformat_minor": 4
}
