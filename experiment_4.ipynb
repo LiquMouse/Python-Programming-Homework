{
 "cells": [
  {
   "cell_type": "markdown",
   "metadata": {},
   "source": [
    "# Python程序设计——上机4\n",
    "\n",
    "实验主题：函数与模块\n",
    "\n",
    "实验目的：\n",
    "\n",
    "* 掌握函数的定义和调用方法\n",
    "* 匿名函数与sorted()/map()/filter()\n",
    "* 掌握变量的作用域\n",
    "* 使用PyCharm，完成模块定义和多种引用方式实验\n"
   ]
  },
  {
   "cell_type": "markdown",
   "metadata": {},
   "source": [
    "## 一、函数"
   ]
  },
  {
   "cell_type": "markdown",
   "metadata": {},
   "source": [
    "### 练习1：乘法口诀表\n",
    "> 改写实验1的乘法口诀法，实现函数multi_formula()，默认输出99乘法口诀表，也可以根据传入实参的数值n，输出nn乘法口诀表"
   ]
  },
  {
   "cell_type": "code",
   "execution_count": null,
   "metadata": {},
   "outputs": [],
   "source": [
    "# 代码\n",
    "def ChengfaKoujueBiao(n=9):\n",
    "    for a in range(1,n+1):\n",
    "        for b in range(1,a+1):\n",
    "            print(f\"{a}*{b}={a*b}\", end=\"\\t\")\n",
    "        print(\"\")\n",
    "\n",
    "ChengfaKoujueBiao(6)"
   ]
  },
  {
   "attachments": {
    "image.png": {
     "image/png": "[encoded data removed]"
    }
   },
   "cell_type": "markdown",
   "metadata": {},
   "source": [
    "### 练习2：编写代码，实现如下组合计算公式：\n",
    ">![image.png](attachment:image.png)"
   ]
  },
  {
   "cell_type": "code",
   "execution_count": null,
   "metadata": {},
   "outputs": [],
   "source": [
    "def c(m,n):\n",
    "    fenzi = 1\n",
    "    for i in range(m,0,-1):\n",
    "        fenzi = fenzi*i\n",
    "    fenmu=1\n",
    "    for i in range(n,0,-1):\n",
    "        fenmu=fenmu*i\n",
    "    for i in range(m-n,0,-1):\n",
    "        fenmu=fenmu*i\n",
    "    return fenzi/fenmu\n",
    "\n",
    "print(c(4,2))"
   ]
  },
  {
   "cell_type": "markdown",
   "metadata": {},
   "source": [
    "### 练习3：编写一个函数计算下面的数列\n",
    "> m(i) = 1/2 + 2/3 + … + i/( i+1)"
   ]
  },
  {
   "cell_type": "code",
   "execution_count": null,
   "metadata": {},
   "outputs": [],
   "source": [
    "# 代码\n",
    "def m(i):\n",
    "    fenshu=[]\n",
    "    for n in range(i):\n",
    "        fenshu.append((n+1)/(n+2))\n",
    "    m=0\n",
    "    for n in fenshu:\n",
    "        m += n\n",
    "    return m\n",
    "\n",
    "print(m(5))"
   ]
  },
  {
   "cell_type": "markdown",
   "metadata": {},
   "source": [
    "### 练习4：给出 指定年的天数\n",
    "> 编写一个函数，以某一年为参数，返回该年的天数。编写一个测试程序，显示从 2010 年到 2020 年每年的天数。"
   ]
  },
  {
   "cell_type": "code",
   "execution_count": null,
   "metadata": {},
   "outputs": [],
   "source": [
    "#代码\n",
    "def tianshu(year):\n",
    "    if (year % 100 == 0 and year % 400 == 0) or (year % 100 != 0 and year % 4 == 0):\n",
    "        return 366\n",
    "    else:\n",
    "        return 365\n",
    "    \n",
    "for i in range(2010,2021):\n",
    "    print(f\"{i}: {tianshu(i)}\")"
   ]
  },
  {
   "cell_type": "markdown",
   "metadata": {},
   "source": [
    "### 练习5 编写函数，实现n钱n鸡问题<br>\n",
    ">(1)假设公鸡5元一只，母鸡3元一只，小鸡1元三只<br>\n",
    "(2)现有n元钱想买n只鸡，编写函数计算所有买鸡方案，并以列表和字典嵌套的方式返回结果，如下所示：<br>\n",
    "&nbsp;&nbsp;&nbsp;&nbsp;&nbsp;&nbsp;&nbsp;&nbsp;&nbsp;&nbsp;&nbsp;&nbsp;&nbsp;[{'公鸡':0,\"母鸡\":25,\"小鸡\":75},{…},……]"
   ]
  },
  {
   "cell_type": "code",
   "execution_count": null,
   "metadata": {},
   "outputs": [],
   "source": [
    "#代码\n",
    "def ji(n):\n",
    "    plan=[]\n",
    "    for x in range(n//5+1):\n",
    "        for y in range((n)//3+1):\n",
    "            for z in range(3*n+1):\n",
    "                if (15*x+9*y+z==3*n) and (x+y+z==n):\n",
    "                    plan.append({'公鸡':x, '母鸡':y, '小鸡':z})"
   ]
  },
  {
   "cell_type": "markdown",
   "metadata": {},
   "source": [
    "### 练习6：神奇的 Collatz 序列\n",
    "> 编写一个名为 collatz 的函数，它接收一个名为 number 的整数参数，如果 number是偶数，就打印 number/2，并返回该值。否则打印 3*number+1 并返回；同时编写程序，让用户输入一个整数，并不断地调用该函数（用第一次的返回值做第二次的参数，以此类推），直到函数返回 1.例如用户输入 3，则输出应依次为 10 5 16 8 4 2 1."
   ]
  },
  {
   "cell_type": "code",
   "execution_count": null,
   "metadata": {},
   "outputs": [],
   "source": [
    "#代码\n",
    "def collatz(n):\n",
    "    if n%2==0:\n",
    "        n = int(n/2)\n",
    "        print(n)\n",
    "    else:\n",
    "        n=3*n+1\n",
    "        print(n)\n",
    "    return(n)\n",
    "\n",
    "n = int(input(\"请输入整数: \"))\n",
    "while n != 1:\n",
    "    n = collatz(n)"
   ]
  },
  {
   "cell_type": "markdown",
   "metadata": {},
   "source": [
    "### 练习7：*可变参数\n",
    "> 编写函数，该函数可以接收一组数值数据，并返回该组数据的最大值、最小值、平均值、方差"
   ]
  },
  {
   "cell_type": "code",
   "execution_count": null,
   "metadata": {},
   "outputs": [],
   "source": [
    "#代码\n",
    "def compute(*args):\n",
    "    zuida = max(args)\n",
    "    zuixiao = min(args)\n",
    "    pingjun = sum(args)/len(args)\n",
    "    fangcha = sum(map(lambda x: (x - pingjun)**2, args)) / len(args)\n",
    "    return {'最大值': zuida, '最小值': zuixiao, '平均值': pingjun, '方差': fangcha}\n",
    "\n",
    "print(compute(1,2,3,4,5))\n"
   ]
  },
  {
   "cell_type": "markdown",
   "metadata": {},
   "source": [
    "### 练习8：**可变参数\n",
    "> 编写函数，传入菜名，食材及其用量，返回该以菜名为key，食材及其用量构成的字典为value的字典型变量，相如：{\"宫保鸡丁\":{\"鸡丁\":300,\"盐\":15,\"醋\":10,\"香菜\":10}}"
   ]
  },
  {
   "cell_type": "code",
   "execution_count": null,
   "metadata": {},
   "outputs": [],
   "source": [
    "# 代码\n",
    "def cook(dish, **args):\n",
    "    return {dish: args}\n",
    "\n",
    "print(cook(\"宫保鸡丁\",鸡丁=300,盐=15,醋=10,香菜=10))"
   ]
  },
  {
   "cell_type": "markdown",
   "metadata": {},
   "source": [
    "## 二、匿名函数"
   ]
  },
  {
   "cell_type": "markdown",
   "metadata": {},
   "source": [
    "### 练习1：有一个学生成绩列表，每个元素是一个元组，包含学生姓名和分数。<br>\n",
    "```python\n",
    "students = [('Alice', 88), ('Bob', 72), ('Charlie', 95), ('David', 65)]\n",
    "```\n",
    "\n",
    "\n",
    "请编写代码完成以下操作：\n",
    "\n",
    "使用 sorted 和 lambda 按分数从高到低对学生进行排序。\n",
    "\n",
    "使用 map 和 lambda 提取出所有学生的姓名，生成一个新的列表。\n",
    "\n",
    "使用 filter 和 lambda 筛选出分数大于等于 80 分的学生。 分的学生。\n"
   ]
  },
  {
   "cell_type": "code",
   "execution_count": null,
   "metadata": {},
   "outputs": [],
   "source": [
    "students = [('Alice', 88), ('Bob', 72), ('Charlie', 95), ('David', 65)]\n",
    "\n",
    "#排序\n",
    "students = (sorted(students,key=lambda x: x[1], reverse=True))\n",
    "print(students)\n",
    "\n",
    "#姓名列表\n",
    "names = list(map(lambda x: x[0], students))\n",
    "print(names)\n",
    "\n",
    "#筛选\n",
    "goodones = list(filter(lambda x: x[1] >= 80, students))\n",
    "print(goodones)"
   ]
  },
  {
   "cell_type": "markdown",
   "metadata": {},
   "source": [
    "### 练习2：字符串处理<br>\n",
    "```python\n",
    "words = [\"apple\", \"Banana\", \"cherry\", \"Date\", \"Elderberry\"]\n",
    "```\n",
    "\n",
    "\n",
    "请编写代码完成以下操作：\n",
    "\n",
    "使用 sorted 和 lambda 按字符串的长度进行升序排序（从短到长）。\n",
    "\n",
    "使用 sorted 和 lambda 按字符串的最后一个字母进行排序（忽略大小写）。\n",
    "\n",
    "使用 map 和 lambda 将列表中所有字符串的首字母转换为大写，其余字母转换为小写。使用字符串对象的capitalize()函数"
   ]
  },
  {
   "cell_type": "code",
   "execution_count": null,
   "metadata": {},
   "outputs": [],
   "source": [
    "words = [\"apple\", \"Banana\", \"cherry\", \"Date\", \"Elderberry\"]\n",
    "\n",
    "#排序\n",
    "words = sorted(words, key=lambda x: len(x))\n",
    "print(words)\n",
    "\n",
    "words = sorted(words, key=lambda x: x[-1])\n",
    "print(words)\n",
    "\n",
    "#转换\n",
    "words = list(map(lambda x: x.capitalize(), words))\n",
    "print(words)"
   ]
  },
  {
   "cell_type": "markdown",
   "metadata": {},
   "source": [
    "### 练习3：字数据处理<br>\n",
    "有一段文本，保存为一个字符串\n",
    "```python\n",
    "text = \"Hello, this is a sample text. It includes some words, and some repeated words. Words are important!\"\n",
    "```\n",
    "\n",
    "\n",
    "请编写代码完成以下操作：\n",
    "\n",
    "使用 map 和 lambda（结合其他函数）将文本拆分为单词列表，并去除每个单词周围的标点符号（如 'sample,', 变成 'sample'）。（提示：str.strip(string.punctuation)）\n",
    "\n",
    "使用 filter 和 lambda 过滤掉所有长度小于等于 3 的短单词（如 ‘a‘, ‘is‘）。\n",
    "\n",
    "使用 sorted 和 lambda 将剩下的单词按长度从长到短排序，如果长度相同，则按字母顺序升序排列。"
   ]
  },
  {
   "cell_type": "code",
   "execution_count": null,
   "metadata": {},
   "outputs": [],
   "source": [
    "#show me your code\n",
    "import string\n",
    "\n",
    "text = \"Hello, this is a sample text. It includes some words, and some repeated words. Words are important!\"\n",
    "words = list(map(lambda x: x.strip(string.punctuation), text.split(\" \")))\n",
    "print(words)\n",
    "filtered_words = list(filter(lambda x: len(x) > 3, words))\n",
    "print(filtered_words)\n",
    "sorted_words = sorted(filtered_words, key=lambda x: (-len(x), x))\n",
    "print(sorted_words)"
   ]
  },
  {
   "cell_type": "markdown",
   "metadata": {},
   "source": [
    "## 三、全局变量"
   ]
  },
  {
   "cell_type": "markdown",
   "metadata": {},
   "source": [
    "### global关键字\n",
    "> 编写函数，实现如下功能：将输入n不断除以2，直到商为0，将除法运算的次数保存在全局变量count中，将每次得到的商值存在全局变量s中"
   ]
  },
  {
   "cell_type": "code",
   "execution_count": null,
   "metadata": {},
   "outputs": [],
   "source": [
    "# 代码\n",
    "def divide(n):\n",
    "    global count\n",
    "    global s\n",
    "    count = 0\n",
    "    s = []\n",
    "    while n != 0:\n",
    "        n = n // 2\n",
    "        s.append(n)\n",
    "        count += 1\n",
    "\n",
    "divide(10)\n",
    "print(count)\n",
    "print(n)"
   ]
  },
  {
   "cell_type": "markdown",
   "metadata": {},
   "source": [
    "## 四、模块"
   ]
  },
  {
   "cell_type": "markdown",
   "metadata": {},
   "source": [
    "### 安装Pycharm，完成多模块定义及其模块之间的相互引用\n",
    "> 定义模块A，在模块A中创建A方法，定义模块B，在模块B中定义B方法，定义模块C，在模块C中分别以不同的形式引入模块A和模块B，并调用模块A中的A方法和模块B的B方法"
   ]
  },
  {
   "cell_type": "code",
   "execution_count": null,
   "metadata": {},
   "outputs": [],
   "source": [
    "#模块C代码\n",
    "import module_A\n",
    "print(module_A.var_A)\n",
    "module_A.method()  \n",
    "\n",
    "from module_B import var_B, method_B\n",
    "print(var_B)\n",
    "method_B()\n"
   ]
  },
  {
   "cell_type": "markdown",
   "metadata": {},
   "source": [
    "### Enjoy~"
   ]
  }
 ],
 "metadata": {
  "kernelspec": {
   "display_name": "Python 3",
   "language": "python",
   "name": "python3"
  },
  "language_info": {
   "codemirror_mode": {
    "name": "ipython",
    "version": 3
   },
   "file_extension": ".py",
   "mimetype": "text/x-python",
   "name": "python",
   "nbconvert_exporter": "python",
   "pygments_lexer": "ipython3",
   "version": "3.12.4"
  }
 },
 "nbformat": 4,
 "nbformat_minor": 4
}
