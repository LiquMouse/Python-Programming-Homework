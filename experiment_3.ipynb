{
 "cells": [
  {
   "cell_type": "markdown",
   "metadata": {},
   "source": [
    "# Python程序设计——上机3\n",
    "\n",
    "**姓名：&nbsp;&nbsp;&nbsp;&nbsp;&nbsp;学号：**\n",
    "\n",
    "实验主题：列表、元组、字典和集合\n",
    "\n",
    "实验目的：\n",
    "\n",
    "* 列表定义及操作\n",
    "* 元组定义及操作\n",
    "* 字典定义及操作\n",
    "* 集合定义及操作\n",
    "\n",
    "<font color=\"red\">请发送至：teacher_jin_2\\@163.com，邮件标题和附件标题均为：Python程序设计_学号\\_姓名\\_上机3</font>"
   ]
  },
  {
   "cell_type": "markdown",
   "metadata": {},
   "source": [
    "### 练习1：自定义一个列表，使用迭代循环和计算循环两种方式遍历和打印列表中的元素"
   ]
  },
  {
   "cell_type": "code",
   "execution_count": 1,
   "metadata": {},
   "outputs": [
    {
     "name": "stdout",
     "output_type": "stream",
     "text": [
      "张三\n",
      "李四\n",
      "王五\n",
      "张三\n",
      "李四\n",
      "王五\n",
      "张三\n",
      "李四\n",
      "王五\n"
     ]
    }
   ],
   "source": [
    "#说明: 这是第二次提交, 去掉了没教过的函数和方法, 只用学过的.\n",
    "\n",
    "\n",
    "ls = ['张三', '李四', '王五']\n",
    "\n",
    "n = 0\n",
    "while n < len(ls):\n",
    "    print(ls[n])\n",
    "    n += 1\n",
    "\n",
    "for i in ls:\n",
    "    print(i)\n",
    "\n",
    "for i in range(len(ls)):\n",
    "    print(ls[i])"
   ]
  },
  {
   "cell_type": "markdown",
   "metadata": {},
   "source": [
    "### 练习2：使用*法运算生成如下列表\n",
    ">[[0, 0, 0], [0, 0, 0], [0, 0, 0], [0, 0, 0], [0, 0, 0]]"
   ]
  },
  {
   "cell_type": "code",
   "execution_count": 2,
   "metadata": {},
   "outputs": [
    {
     "name": "stdout",
     "output_type": "stream",
     "text": [
      "[[0, 0, 0], [0, 0, 0], [0, 0, 0], [0, 0, 0], [0, 0, 0]]\n"
     ]
    }
   ],
   "source": [
    "ls = [[0] * 3] * 5\n",
    "print(ls)"
   ]
  },
  {
   "cell_type": "markdown",
   "metadata": {},
   "source": [
    "### 练习3：使用生成式创建如下列表，该列表有字符串“ABCD”和“1234”的笛卡尔积构成\n",
    "> ['A1', 'A2', 'A3', 'A4', 'B1', 'B2', 'B3', 'B4', 'C1', 'C2', 'C3', 'C4', 'D1', 'D2', 'D3', 'D4']"
   ]
  },
  {
   "cell_type": "code",
   "execution_count": 3,
   "metadata": {},
   "outputs": [
    {
     "name": "stdout",
     "output_type": "stream",
     "text": [
      "['A1', 'A2', 'A3', 'A4', 'B1', 'B2', 'B3', 'B4', 'C1', 'C2', 'C3', 'C4', 'D1', 'D2', 'D3', 'D4']\n"
     ]
    }
   ],
   "source": [
    "ls = [i + k for i in 'ABCD' for k in '1234']\n",
    "print(ls)"
   ]
  },
  {
   "cell_type": "markdown",
   "metadata": {},
   "source": [
    "### 练习4：随机生成n个满足如下要求的手机号码：\n",
    "1. 手机号码必须是13、15、17、18开头\n",
    "2. 手机号码相同数字出现的次数不能大于5次\n",
    "3. 任意两个手机号不能重复\n",
    "4. 生成的手机号码需保存在列表tels中，并且按照升序进行排列"
   ]
  },
  {
   "cell_type": "code",
   "execution_count": 4,
   "metadata": {},
   "outputs": [
    {
     "name": "stdout",
     "output_type": "stream",
     "text": [
      "['13127476227', '13261923715', '15159386849', '15717655223', '15956708465', '17061684531', '17550466976', '17609707378', '17713062875', '17918292545']\n"
     ]
    }
   ],
   "source": [
    "import random as rd\n",
    "\n",
    "n = int(input(\"输入要生成的手机号数量\"))\n",
    "tel_starts = ['13', '15', '17', '18']\n",
    "tels = []\n",
    "\n",
    "while len(tels) < n:\n",
    "    tel = rd.choice(tel_starts)\n",
    "\n",
    "    #生成后续9位\n",
    "    for _ in range(9):\n",
    "        tel = tel + str(rd.randint(0,9))\n",
    "    \n",
    "    if tel not in tels:\n",
    "        more_5 = False #用来标记是否有数字出现超过5次\n",
    "        for i in set(tel): #用集合去重\n",
    "            if tel.count(i) >= 5:\n",
    "                more_5 = True\n",
    "                break\n",
    "        if more_5:\n",
    "            continue\n",
    "\n",
    "        tels.append(tel)\n",
    "\n",
    "tels.sort()\n",
    "print(tels)"
   ]
  },
  {
   "cell_type": "markdown",
   "metadata": {},
   "source": [
    "### 练习5： 对于练习4得到tels列表，完成列表的索引、切片、增、删、改等操作，请代码前用注释表明操作类型"
   ]
  },
  {
   "cell_type": "code",
   "execution_count": 5,
   "metadata": {},
   "outputs": [
    {
     "name": "stdout",
     "output_type": "stream",
     "text": [
      "索引:\n",
      "15159386849\n",
      "\n",
      "切片:\n",
      "['13127476227', '13261923715', '15159386849', '15717655223', '15956708465']\n",
      "\n",
      "增:\n",
      "['13127476227', '13261923715', '15159386849', '15717655223', '15956708465', '17061684531', '17550466976', '17609707378', '17713062875', '17918292545', '18175712333']\n",
      "['18512345678', '13127476227', '13261923715', '15159386849', '15717655223', '15956708465', '17061684531', '17550466976', '17609707378', '17713062875', '17918292545', '18175712333']\n",
      "\n",
      "改:\n",
      "['18888776655', '13127476227', '13261923715', '15159386849', '15717655223', '15956708465', '17061684531', '17550466976', '17609707378', '17713062875', '17918292545', '18175712333']\n",
      "\n",
      "删:\n",
      "['18888776655', '13127476227', '13261923715', '15159386849', '15717655223', '15956708465', '17061684531', '17550466976', '17609707378', '17713062875', '17918292545']\n",
      "['18888776655', '13127476227', '13261923715', '15159386849', '15717655223', '15956708465', '17061684531', '17550466976', '17609707378', '17713062875']\n",
      "['18888776655', '13261923715', '15159386849', '15717655223', '15956708465', '17061684531', '17550466976', '17609707378', '17713062875']\n",
      "[]\n"
     ]
    }
   ],
   "source": [
    "#索引\n",
    "print(\"索引:\")\n",
    "print(tels[2])\n",
    "\n",
    "#切片\n",
    "print(\"\\n切片:\")\n",
    "print(tels[:5])\n",
    "\n",
    "#增\n",
    "print(\"\\n增:\")\n",
    "tels.append('18175712333') #在末尾添加\n",
    "print(tels)\n",
    "tels.insert(0, '18512345678') #在指定位置插入\n",
    "print(tels)\n",
    "\n",
    "#改\n",
    "print(\"\\n改:\")\n",
    "tels[0] = '18888776655'\n",
    "print(tels)\n",
    "\n",
    "#删\n",
    "print(\"\\n删:\")\n",
    "\n",
    "tels.remove('18175712333') #根据值删除\n",
    "print(tels)\n",
    "\n",
    "tels.pop() #弹出\n",
    "print(tels)\n",
    "\n",
    "del tels[1] #根据索引删除\n",
    "print(tels)\n",
    "\n",
    "tels.clear() #清空\n",
    "print(tels)"
   ]
  },
  {
   "cell_type": "markdown",
   "metadata": {},
   "source": [
    "### 练习6：输入一段话，统计每个英文字母（区分大小写）出现的次数，并将统计结果保存在字典中\n",
    "> 判断字符ch是否为英文字符： if 'A' <= ch <= 'Z' or 'a' <= ch <= 'z':\n",
    "> \"我是Xman，are you ok\"这句话的统计结果为：{'X': 1, 'm': 1, 'a': 2, 'n': 1, 'r': 1, 'e': 1, 'y': 1, 'o': 2, 'u': 1, 'k': 1}"
   ]
  },
  {
   "cell_type": "code",
   "execution_count": 6,
   "metadata": {},
   "outputs": [
    {
     "name": "stdout",
     "output_type": "stream",
     "text": [
      "\"Hello hello world!\"的统计结果:\n",
      "{'e': 2, 'w': 1, 'H': 1, 'l': 5, 'h': 1, 'd': 1, 'r': 1, 'o': 3}\n"
     ]
    }
   ],
   "source": [
    "sentence = input('输入一段话')\n",
    "\n",
    "word_nums = {}\n",
    "for ch in set(sentence): #集合去重\n",
    "    if 'A' <= ch <'Z' or 'a' <= ch <= 'z':\n",
    "        word_nums[ch] = sentence.count(ch)\n",
    "\n",
    "print(\"\\\"{}\\\"的统计结果:\\n{}\".format(sentence, word_nums))"
   ]
  },
  {
   "cell_type": "markdown",
   "metadata": {},
   "source": [
    "### 练习7：在一个字典中保存了股票的代码和价格，找出股价大于100元的股票信息并存放在一个新的字典中"
   ]
  },
  {
   "cell_type": "code",
   "execution_count": 7,
   "metadata": {},
   "outputs": [
    {
     "name": "stdout",
     "output_type": "stream",
     "text": [
      "{'AAPL': 191.88, 'GOOG': 1186.96, 'IBM': 149.24, 'ACN': 166.89, 'FB': 208.09}\n"
     ]
    }
   ],
   "source": [
    "# 代码\n",
    "stocks = [\n",
    "    {\"name\":\"AAPL\",\"price\":191.88},\n",
    "    {\"name\": \"GOOG\",\"price\":1186.96},\n",
    "    {\"name\":\"IBM\",\"price\":149.24},\n",
    "    {\"name\":\"ORCL\",\"price\":48.44},\n",
    "    {\"name\":\"ACN\",\"price\":166.89},\n",
    "    {\"name\":\"FB\",\"price\":208.09},\n",
    "    {\"name\":\"SYMC\",\"price\":21.29}\n",
    "]\n",
    "\n",
    "good_stocks = {}\n",
    "for stock in stocks:\n",
    "    if stock['price'] > 100:\n",
    "        good_stocks[stock[\"name\"]] = stock[\"price\"]\n",
    "\n",
    "print(good_stocks)"
   ]
  },
  {
   "cell_type": "markdown",
   "metadata": {},
   "source": [
    "### 练习8：基于上次一次完成的猜数字游戏，假设这是一个多人游戏，增加如下功能：\n",
    " 1. 游戏开始时要求用户输入玩家昵称，要求昵称不能重复\n",
    " 2. 记录每个玩家猜数字的次数和数字列表,形如：{\"nickName':'张三','total':5,'numbers':[50,80,60,70,65]}\n",
    " 3. 每次玩家完成游戏后，显示玩家排名，排名按照猜数字次数的升序排列\n",
    " 4. 排序参考：https://www.runoob.com/python3/python-sort-dictionaries-by-key-or-value.html"
   ]
  },
  {
   "cell_type": "code",
   "execution_count": 10,
   "metadata": {},
   "outputs": [
    {
     "name": "stdout",
     "output_type": "stream",
     "text": [
      "正确！\n",
      "\n",
      "排行榜: \n",
      "chipmunk: 6次\n",
      "------\n",
      "正确！\n",
      "\n",
      "排行榜: \n",
      "goolulu: 5次\n",
      "chipmunk: 6次\n",
      "------\n",
      "正确！\n",
      "\n",
      "排行榜: \n",
      "goolulu: 5次\n",
      "chipmunk: 6次\n",
      "lsy: 11次\n",
      "------\n",
      "正在退出...\n"
     ]
    }
   ],
   "source": [
    "import random as rd\n",
    "\n",
    "player_infos = [] #储存玩家信息, 元素为字典, 形如: {'nickName': 'chipmunk', 'total': 8, 'number': [1,2,3,4,5,6,7,8]}\n",
    "\n",
    "while True:\n",
    "    ipt_name = input(\"请输入用户名, 输入bye退出: \")\n",
    "    if ipt_name == 'bye':\n",
    "        print(\"正在退出...\")\n",
    "        break\n",
    "\n",
    "    #遍历玩家信息列表, 如果有重复用户名, 不执行游戏程序, 回到输入用户名环节\n",
    "    duplicated = False #标记是否重复\n",
    "    for player in player_infos:\n",
    "        if player[\"nickName\"] == ipt_name:\n",
    "            print(\"昵称已存在! \")\n",
    "            duplicated = True\n",
    "            break\n",
    "    if duplicated: #如果重复, 不执行游戏, 回到输用户名环节\n",
    "        continue\n",
    "\n",
    "    #没有重复用户名, 把该用户添加到玩家列表, 开始游戏\n",
    "    player_infos.append({'nickName': ipt_name, 'total':0, 'number': []})\n",
    "    num = rd.randint(1, 100)\n",
    "    ipt_n = input(\"请输入在1~100之间的整数, 任何时候输入exit退出本轮游戏: \")\n",
    "\n",
    "    while True:\n",
    "        if ipt_n.isnumeric():\n",
    "            ipt_n = int(ipt_n)\n",
    "            \n",
    "            player_infos[-1]['number'].append(ipt_n) #把输入的数字加入玩家的numbers列表\n",
    "            player_infos[-1]['total'] += 1 #猜测次数 +1\n",
    "\n",
    "            if ipt_n < num:\n",
    "                ipt_n = input(\"小了！重新输入：\")\n",
    "\n",
    "            elif ipt_n > num:\n",
    "                ipt_n = input(\"大了！重新输入：\")\n",
    "\n",
    "            elif ipt_n == num:\n",
    "                print(\"正确！\")\n",
    "\n",
    "                player_infos.sort(key=lambda x: x['total']) #按猜测次数升序\n",
    "\n",
    "                print(\"\\n排行榜: \")\n",
    "                for player in player_infos:\n",
    "                    print(\"{}: {}次\".format(player['nickName'], player['total']))\n",
    "                print(\"------\")\n",
    "\n",
    "                break\n",
    "\n",
    "\n",
    "        else:\n",
    "            if ipt_n == \"exit\":\n",
    "                print(\"正在退出...\")\n",
    "                del player_infos[-1] #游戏中途退出, 删除玩家, 不计成绩\n",
    "                break\n",
    "            else:\n",
    "                ipt_n = input(\"请输入正整数: \")\n"
   ]
  },
  {
   "cell_type": "markdown",
   "metadata": {},
   "source": [
    "### 练习9：自定义两个集合，并练习集合运算和增、删和遍历操作"
   ]
  },
  {
   "cell_type": "code",
   "execution_count": 9,
   "metadata": {},
   "outputs": [
    {
     "name": "stdout",
     "output_type": "stream",
     "text": [
      "集合运算:\n",
      "{'banana'}\n",
      "{'grape', 'apple', 'orange', 'banana'}\n",
      "{'apple', 'grape', 'orange'}\n",
      "{'orange'}\n",
      "\n",
      "增:\n",
      "{'apple', 10, 'orange', 'watermelon', 'grape', (7, 8, 9), 'banana'}\n",
      "\n",
      "遍历:\n",
      "apple\n",
      "10\n",
      "orange\n",
      "watermelon\n",
      "grape\n",
      "(7, 8, 9)\n",
      "banana\n",
      "\n",
      "删:\n",
      "{'apple', 10, 'orange', 'watermelon', 'grape', (7, 8, 9)}\n",
      "{10, 'orange', 'watermelon', 'grape', (7, 8, 9)}\n",
      "set()\n"
     ]
    }
   ],
   "source": [
    "st1 = set((\"banana\", \"orange\"))\n",
    "st2 = {\"banana\", \"apple\", \"grape\"}\n",
    "\n",
    "#集合运算\n",
    "print(\"集合运算:\")\n",
    "print(st1 & st2)\n",
    "print(st1 | st2)\n",
    "print(st1 ^ st2)\n",
    "print(st1 - st2)\n",
    "\n",
    "#增\n",
    "print(\"\\n增:\")\n",
    "st1.update(((7, 8, 9), (10)))\n",
    "st1.add(\"watermelon\")\n",
    "st1.update(st2)\n",
    "print(st1)\n",
    "\n",
    "#遍历\n",
    "print(\"\\n遍历:\")\n",
    "for i in st1:\n",
    "    print(i)\n",
    "\n",
    "#删\n",
    "print(\"\\n删:\")\n",
    "st1.remove(\"banana\")\n",
    "print(st1)\n",
    "st1.pop()\n",
    "print(st1)\n",
    "st1.clear()\n",
    "print(st1)"
   ]
  },
  {
   "cell_type": "markdown",
   "metadata": {},
   "source": [
    "### enjoy~"
   ]
  }
 ],
 "metadata": {
  "kernelspec": {
   "display_name": "Python 3",
   "language": "python",
   "name": "python3"
  },
  "language_info": {
   "codemirror_mode": {
    "name": "ipython",
    "version": 3
   },
   "file_extension": ".py",
   "mimetype": "text/x-python",
   "name": "python",
   "nbconvert_exporter": "python",
   "pygments_lexer": "ipython3",
   "version": "3.12.4"
  }
 },
 "nbformat": 4,
 "nbformat_minor": 4
}
